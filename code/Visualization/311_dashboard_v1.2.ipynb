{
 "cells": [
  {
   "cell_type": "code",
   "execution_count": 1,
   "id": "0e744e54-f7e3-4a80-a629-431a4919764b",
   "metadata": {},
   "outputs": [],
   "source": [
    "from flask import Flask, render_template, request\n",
    "import psycopg\n",
    "import pandas as pd\n",
    "import plotly.express as px\n",
    "from plotly.subplots import make_subplots\n",
    "import plotly.graph_objs as go"
   ]
  },
  {
   "cell_type": "code",
   "execution_count": 2,
   "id": "1d4d87c6-4bd9-42a5-a2f3-6de45f93f68d",
   "metadata": {},
   "outputs": [],
   "source": [
    "conn = psycopg.connect(\n",
    "    host=\"localhost\",\n",
    "    port='5432',\n",
    "    dbname=\"311_service_data\",\n",
    "    user=\"postgres\",\n",
    "    password=\"123\")"
   ]
  },
  {
   "cell_type": "code",
   "execution_count": 3,
   "id": "23366be5-0b83-40c7-9c51-6732bb511286",
   "metadata": {},
   "outputs": [],
   "source": [
    "app = Flask(__name__)\n",
    "\n",
    "@app.route('/', methods=['GET', 'POST'])\n",
    "def home():\n",
    "    cursor = conn.cursor()\n",
    "    cursor.execute(\"\"\"SELECT DISTINCT \"Agency\" FROM main_request\"\"\")\n",
    "    agencies = cursor.fetchall()\n",
    "    cursor.execute(\"\"\"SELECT DISTINCT \"Complaint Type\" FROM main_request\"\"\")\n",
    "    complaint_types = cursor.fetchall()\n",
    "    \n",
    "    options_agency = [{'label': agency[0], 'value': agency[0]} for agency in agencies]\n",
    "    options_complaint = [{'label': complaint_type[0], 'value': complaint_type[0]} for complaint_type in complaint_types]\n",
    "    \n",
    "    if request.method == 'POST':\n",
    "        agency = request.form['agency']\n",
    "        complaint_type = request.form['complaint_type']\n",
    "        zip_code = request.form['zip_code']\n",
    "        created_date = request.form['created_date']\n",
    "        \n",
    "        query = f\"\"\"SELECT \n",
    "                    main_request.\"Unique Key\"\n",
    "                    , main_request.\"Agency\"\n",
    "                    , main_request.\"Complaint Type\"\n",
    "                    , main_request.\"Status\"\n",
    "                    , main_request.\"DaystoClose\"\n",
    "                    , main_request.\"Closed Date\"\n",
    "                    , main_request.\"Created Date\"\n",
    "                    , location.\"Incident Address\"\n",
    "                    , location.\"Latitude\"\n",
    "                    , location.\"Longitude\"\n",
    "                    FROM main_request\n",
    "                    INNER JOIN location ON main_request.\"location_id\" = location.\"LocID\"\n",
    "                    WHERE main_request.\"Created Date\" >= '{created_date}'::date - interval '30 days'\n",
    "                    AND location.\"Incident Zip\" = '{zip_code}'\n",
    "                    \"\"\"\n",
    "        if agency:\n",
    "            query += f\"\"\"AND main_request.\"Agency\" = '{agency}'\n",
    "                        \"\"\"\n",
    "        if complaint_type:\n",
    "            query += f\"\"\"AND main_request.\"Complaint Type\" = '{complaint_type}'\n",
    "                        \"\"\"\n",
    "                        \n",
    "        df = pd.read_sql_query(query, conn)\n",
    "        \n",
    "        color_scale = px.colors.qualitative.Prism\n",
    "        unique_complaint_types = df['Complaint Type'].unique()\n",
    "        complaint_color_map = {complaint_type: color_scale[i % len(color_scale)] for i, complaint_type in enumerate(unique_complaint_types)}\n",
    "\n",
    "        complaint_counts = df['Complaint Type'].value_counts().reset_index()\n",
    "        complaint_counts.columns = ['Complaint Type', 'Count']\n",
    "\n",
    "        closed_cases = df[df[\"Status\"].isin(['closed'])]\n",
    "        closed_percent = (closed_cases.groupby(\"Complaint Type\").size() / df.groupby(\"Complaint Type\").size() * 100).reset_index(name=\"% of Resolved Requests\")\n",
    "        closed_percent[\"% of Resolved Requests\"] = closed_percent[\"% of Resolved Requests\"].round(2)\n",
    "        avg_closing_time = closed_cases[closed_cases[\"DaystoClose\"] > 0].groupby(\"Complaint Type\")[\"DaystoClose\"].mean().reset_index(name=\"Average Resolution Days\")\n",
    "        avg_closing_time[\"Average Resolution Days\"] = avg_closing_time[\"Average Resolution Days\"].round(2)\n",
    "\n",
    "        bar_chart_data = pd.merge(pd.merge(complaint_counts, closed_percent, on=\"Complaint Type\", how=\"left\"), avg_closing_time, on=\"Complaint Type\", how=\"left\").fillna(-1).reset_index(drop=True)\n",
    "        bar_chart_data = bar_chart_data.sort_values(\"Count\", ascending=False).head(10)\n",
    "        \n",
    "        bar_chart = px.bar(bar_chart_data, x=\"Count\", y=\"Complaint Type\", orientation=\"h\", text=\"Count\", hover_data={\"% of Resolved Requests\": True, \"Average Resolution Days\": True, \"Complaint Type\": False, \"Count\": False}, title=\"Top of Service Requests by Type\", color=\"Complaint Type\", color_discrete_map=complaint_color_map)\n",
    "        bar_chart.update_traces(texttemplate='%{text:.2s}', textposition='outside')\n",
    "        bar_chart.update_layout(margin=dict(t=90, l=5, b=0, r=5),showlegend=False)\n",
    "\n",
    "        map_chart = px.scatter_mapbox(df, lat=\"Latitude\", lon=\"Longitude\", hover_data={\"Incident Address\": True, \"Complaint Type\": True, \"Longitude\": False, \"Latitude\": False}, title=\"Map of Service Requests\", color=\"Complaint Type\", color_discrete_map=complaint_color_map, zoom=14, opacity=0.5)\n",
    "        map_chart.update_layout(margin=dict(t=30, l=5, b=0, r=5), mapbox_style=\"carto-positron\")\n",
    "            \n",
    "        graph = bar_chart.to_html(full_html=False)\n",
    "        graph2 = map_chart.to_html(full_html=False)\n",
    "\n",
    "        return render_template('index.html', options_agency=options_agency, options_complaint=options_complaint, graph=graph, graph2=graph2)\n",
    "\n",
    "    return render_template('index.html', options_agency=options_agency, options_complaint=options_complaint, graph=None, graph2=None)"
   ]
  },
  {
   "cell_type": "code",
   "execution_count": null,
   "id": "151abfed-c8dc-4df8-bb69-8ae4aee30fb3",
   "metadata": {},
   "outputs": [
    {
     "name": "stdout",
     "output_type": "stream",
     "text": [
      " * Serving Flask app '__main__'\n",
      " * Debug mode: off\n"
     ]
    },
    {
     "name": "stderr",
     "output_type": "stream",
     "text": [
      "\u001b[31m\u001b[1mWARNING: This is a development server. Do not use it in a production deployment. Use a production WSGI server instead.\u001b[0m\n",
      " * Running on http://localhost:5004\n",
      "\u001b[33mPress CTRL+C to quit\u001b[0m\n",
      "127.0.0.1 - - [24/Apr/2023 13:13:50] \"GET / HTTP/1.1\" 200 -\n",
      "/var/folders/17/ln01f0qd6mj9c4r0y8js83180000gn/T/ipykernel_35742/1090415611.py:43: UserWarning:\n",
      "\n",
      "pandas only supports SQLAlchemy connectable (engine/connection) or database string URI or sqlite3 DBAPI2 connection. Other DBAPI2 objects are not tested. Please consider using SQLAlchemy.\n",
      "\n",
      "127.0.0.1 - - [24/Apr/2023 13:18:53] \"POST / HTTP/1.1\" 200 -\n",
      "/var/folders/17/ln01f0qd6mj9c4r0y8js83180000gn/T/ipykernel_35742/1090415611.py:43: UserWarning:\n",
      "\n",
      "pandas only supports SQLAlchemy connectable (engine/connection) or database string URI or sqlite3 DBAPI2 connection. Other DBAPI2 objects are not tested. Please consider using SQLAlchemy.\n",
      "\n",
      "127.0.0.1 - - [24/Apr/2023 13:19:05] \"POST / HTTP/1.1\" 200 -\n"
     ]
    }
   ],
   "source": [
    "if __name__ == '__main__':\n",
    "    app.run(host='localhost', port=5004)"
   ]
  },
  {
   "cell_type": "code",
   "execution_count": null,
   "id": "eb87ed76",
   "metadata": {},
   "outputs": [],
   "source": []
  }
 ],
 "metadata": {
  "kernelspec": {
   "display_name": "Python 3 (ipykernel)",
   "language": "python",
   "name": "python3"
  },
  "language_info": {
   "codemirror_mode": {
    "name": "ipython",
    "version": 3
   },
   "file_extension": ".py",
   "mimetype": "text/x-python",
   "name": "python",
   "nbconvert_exporter": "python",
   "pygments_lexer": "ipython3",
   "version": "3.10.7"
  }
 },
 "nbformat": 4,
 "nbformat_minor": 5
}
