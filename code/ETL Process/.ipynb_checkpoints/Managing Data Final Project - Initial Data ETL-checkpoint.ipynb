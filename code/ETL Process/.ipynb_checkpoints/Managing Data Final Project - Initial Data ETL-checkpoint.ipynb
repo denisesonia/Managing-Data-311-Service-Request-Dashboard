{
 "cells": [
  {
   "cell_type": "markdown",
   "id": "0bbc6aaf",
   "metadata": {},
   "source": [
    "# Extract Initial Data from 311 Service Data (1 Months) to Apache Spark"
   ]
  },
  {
   "cell_type": "code",
   "execution_count": 21,
   "id": "decafd8c",
   "metadata": {},
   "outputs": [],
   "source": [
    "import os\n",
    "import sys\n",
    "os.environ['PYSPARK_PYTHON'] = sys.executable\n",
    "os.environ['PYSPARK_DRIVER_PYTHON'] = sys.executable\n",
    "#os.environ[\"PYSPARK_SUBMIT_ARGS\"] = \"--jars /Users/denisesonia/postgresql-42.2.24.jar\""
   ]
  },
  {
   "cell_type": "code",
   "execution_count": 22,
   "id": "d92ab991",
   "metadata": {},
   "outputs": [],
   "source": [
    "from pyspark.sql import SparkSession\n",
    "\n",
    "spark = SparkSession \\\n",
    "    .builder \\\n",
    "    .appName(\"Intro to Apache Spark\") \\\n",
    "    .config(\"spark.cores.max\", \"4\") \\\n",
    "    .config('spark.executor.memory', '8G') \\\n",
    "    .config('spark.driver.maxResultSize', '8g') \\\n",
    "    .config('spark.kryoserializer.buffer.max', '512m') \\\n",
    "    .config(\"spark.driver.cores\", \"4\") \\\n",
    "    .getOrCreate()\n",
    "\n"
   ]
  },
  {
   "cell_type": "code",
   "execution_count": 23,
   "id": "02cf17fd",
   "metadata": {},
   "outputs": [
    {
     "name": "stderr",
     "output_type": "stream",
     "text": [
      "                                                                                \r"
     ]
    },
    {
     "data": {
      "text/plain": [
       "3970852"
      ]
     },
     "execution_count": 23,
     "metadata": {},
     "output_type": "execute_result"
    }
   ],
   "source": [
    "df = spark.read.format(\"csv\") \\\n",
    "               .options(header='true', inferschema='true', treatEmptyValuesAsNulls='true') \\\n",
    "               .load(\"311_Service_Requests_from_2010_to_Present.csv\")\n",
    "df.count()"
   ]
  },
  {
   "cell_type": "code",
   "execution_count": 24,
   "id": "7f7997af",
   "metadata": {},
   "outputs": [
    {
     "data": {
      "text/plain": [
       "['Unique Key',\n",
       " 'Created Date',\n",
       " 'Closed Date',\n",
       " 'Agency',\n",
       " 'Agency Name',\n",
       " 'Complaint Type',\n",
       " 'Descriptor',\n",
       " 'Location Type',\n",
       " 'Incident Zip',\n",
       " 'Incident Address',\n",
       " 'Street Name',\n",
       " 'Cross Street 1',\n",
       " 'Cross Street 2',\n",
       " 'Intersection Street 1',\n",
       " 'Intersection Street 2',\n",
       " 'Address Type',\n",
       " 'City',\n",
       " 'Landmark',\n",
       " 'Facility Type',\n",
       " 'Status',\n",
       " 'Due Date',\n",
       " 'Resolution Description',\n",
       " 'Resolution Action Updated Date',\n",
       " 'Community Board',\n",
       " 'BBL',\n",
       " 'Borough',\n",
       " 'X Coordinate (State Plane)',\n",
       " 'Y Coordinate (State Plane)',\n",
       " 'Open Data Channel Type',\n",
       " 'Park Facility Name',\n",
       " 'Park Borough',\n",
       " 'Vehicle Type',\n",
       " 'Taxi Company Borough',\n",
       " 'Taxi Pick Up Location',\n",
       " 'Bridge Highway Name',\n",
       " 'Bridge Highway Direction',\n",
       " 'Road Ramp',\n",
       " 'Bridge Highway Segment',\n",
       " 'Latitude',\n",
       " 'Longitude',\n",
       " 'Location',\n",
       " 'Zip Codes',\n",
       " 'Community Districts',\n",
       " 'Borough Boundaries',\n",
       " 'City Council Districts',\n",
       " 'Police Precincts']"
      ]
     },
     "execution_count": 24,
     "metadata": {},
     "output_type": "execute_result"
    }
   ],
   "source": [
    "df.columns"
   ]
  },
  {
   "cell_type": "code",
   "execution_count": 25,
   "id": "1bd95cbe",
   "metadata": {},
   "outputs": [
    {
     "name": "stdout",
     "output_type": "stream",
     "text": [
      "+-----------+--------------------+\n",
      "|Closed Date|        Created Date|\n",
      "+-----------+--------------------+\n",
      "|       null|04/12/2023 12:00:...|\n",
      "|       null|04/12/2023 12:00:...|\n",
      "|       null|04/12/2023 02:07:...|\n",
      "|       null|04/12/2023 02:06:...|\n",
      "|       null|04/12/2023 02:06:...|\n",
      "|       null|04/12/2023 02:06:...|\n",
      "|       null|04/12/2023 02:05:...|\n",
      "|       null|04/12/2023 02:05:...|\n",
      "|       null|04/12/2023 02:05:...|\n",
      "|       null|04/12/2023 02:04:...|\n",
      "|       null|04/12/2023 02:03:...|\n",
      "|       null|04/12/2023 02:02:...|\n",
      "|       null|04/12/2023 02:02:...|\n",
      "|       null|04/12/2023 02:02:...|\n",
      "|       null|04/12/2023 02:01:...|\n",
      "|       null|04/12/2023 01:59:...|\n",
      "|       null|04/12/2023 01:59:...|\n",
      "|       null|04/12/2023 01:58:...|\n",
      "|       null|04/12/2023 01:58:...|\n",
      "|       null|04/12/2023 01:58:...|\n",
      "+-----------+--------------------+\n",
      "only showing top 20 rows\n",
      "\n"
     ]
    }
   ],
   "source": [
    "coba = df.select(\"Closed Date\", \"Created Date\")\n",
    "coba.show()"
   ]
  },
  {
   "cell_type": "markdown",
   "id": "0297dc3b",
   "metadata": {},
   "source": [
    "# Transform the data accordingly"
   ]
  },
  {
   "cell_type": "code",
   "execution_count": 26,
   "id": "fcb60e41",
   "metadata": {},
   "outputs": [
    {
     "name": "stdout",
     "output_type": "stream",
     "text": [
      "+----------+------+--------------------+--------------------+-----------+-----------+------------+-----------+--------------------+\n",
      "|Unique Key|Agency|      Complaint Type|            Location|     Status|Closed Date|Created Date|DaysToClose|       LoadTimestamp|\n",
      "+----------+------+--------------------+--------------------+-----------+-----------+------------+-----------+--------------------+\n",
      "|  57288544|  dsny|   derelict vehicles|(40.8634631045716...|       open|       null|  2023-04-12|          0|2023-04-17 14:57:...|\n",
      "|  57290182|  dsny|   derelict vehicles|(40.5942555419964...|       open|       null|  2023-04-12|          0|2023-04-17 14:57:...|\n",
      "|  57282889|  nypd| noise - residential|(40.6975045385544...|in progress|       null|  2023-04-12|          0|2023-04-17 14:57:...|\n",
      "|  57290428|   dot|    street condition|                null|in progress|       null|  2023-04-12|          0|2023-04-17 14:57:...|\n",
      "|  57289291|  nypd| noise - residential|(40.8688924200005...|in progress|       null|  2023-04-12|          0|2023-04-17 14:57:...|\n",
      "|  57284702|  nypd|  noise - commercial|(40.6522602405300...|in progress|       null|  2023-04-12|          0|2023-04-17 14:57:...|\n",
      "|  57289469|   edc|  noise - helicopter|(40.7821068766108...|in progress|       null|  2023-04-12|          0|2023-04-17 14:57:...|\n",
      "|  57286327|  nypd| noise - residential|(40.7776829950443...|in progress|       null|  2023-04-12|          0|2023-04-17 14:57:...|\n",
      "|  57289680|   dhs|homeless person a...|(40.7576353598037...|in progress|       null|  2023-04-12|          0|2023-04-17 14:57:...|\n",
      "|  57289443|  nypd|    blocked driveway|(40.6063894049118...|in progress|       null|  2023-04-12|          0|2023-04-17 14:57:...|\n",
      "|  57282676|  nypd| noise - residential|(40.8200308130152...|in progress|       null|  2023-04-12|          0|2023-04-17 14:57:...|\n",
      "|  57284467|   edc|  noise - helicopter|(40.6691713945073...|in progress|       null|  2023-04-12|          0|2023-04-17 14:57:...|\n",
      "|  57286491|  nypd|noise - street/si...|(40.6522629776367...|in progress|       null|  2023-04-12|          0|2023-04-17 14:57:...|\n",
      "|  57285033|  nypd|  noise - commercial|(40.8087546493578...|in progress|       null|  2023-04-12|          0|2023-04-17 14:57:...|\n",
      "|  57288616|  nypd|noise - street/si...|(40.6770266293484...|in progress|       null|  2023-04-12|          0|2023-04-17 14:57:...|\n",
      "|  57288715|  nypd|noise - street/si...|(40.7336333676163...|in progress|       null|  2023-04-12|          0|2023-04-17 14:57:...|\n",
      "|  57283638|  nypd| noise - residential|(40.8622502737354...|in progress|       null|  2023-04-12|          0|2023-04-17 14:57:...|\n",
      "|  57285474|   edc|  noise - helicopter|(40.6691713945073...|in progress|       null|  2023-04-12|          0|2023-04-17 14:57:...|\n",
      "|  57287571|  nypd| noise - residential|(40.6945602623580...|in progress|       null|  2023-04-12|          0|2023-04-17 14:57:...|\n",
      "|  57283755|  nypd|     illegal parking|(40.6882715421899...|in progress|       null|  2023-04-12|          0|2023-04-17 14:57:...|\n",
      "+----------+------+--------------------+--------------------+-----------+-----------+------------+-----------+--------------------+\n",
      "only showing top 20 rows\n",
      "\n"
     ]
    }
   ],
   "source": [
    "from pyspark.sql.functions import current_timestamp, lower, col, to_date, datediff, coalesce, unix_timestamp, when, lit\n",
    "\n",
    "# Add a new column with today's date and time\n",
    "df_raw = df.withColumn('LoadTimestamp', current_timestamp())\n",
    "\n",
    "# Convert string columns to lowercase\n",
    "string_columns = [\"Agency\", \"Complaint Type\", \"Descriptor\", \"City\", \"Borough\", \"Incident Address\", \"Status\"]\n",
    "for column in string_columns:\n",
    "    df_raw = df_raw.withColumn(column, lower(col(column)))\n",
    "\n",
    "# Format Created Date\n",
    "date_format = \"M/d/yyyy h:mm:ss a\"\n",
    "df_raw = df_raw.withColumn(\"Created Date\", to_date(unix_timestamp(col(\"Created Date\"), date_format).cast(\"timestamp\")))\n",
    "\n",
    "# Format Closed Date\n",
    "df_raw = df_raw.withColumn(\"Closed Date\", when(col(\"Closed Date\").isNotNull(), to_date(unix_timestamp(col(\"Closed Date\"), date_format).cast(\"timestamp\"))))\n",
    "\n",
    "# Calculate the difference between Closed Date and Created Date\n",
    "df_raw = df_raw.withColumn(\"DaysToClose\", when(col(\"Closed Date\").isNull(), 0).when(col(\"Closed Date\") == col(\"Created Date\"), 1).otherwise(datediff(col(\"Closed Date\"), col(\"Created Date\"))))\n",
    "\n",
    "# Select columns\n",
    "df_raw = df_raw.select(\"Unique Key\", \"Agency\", \"Complaint Type\", \"Location\", \"Status\", \"Closed Date\", \"Created Date\", \"DaysToClose\", \"LoadTimestamp\")\n",
    "\n",
    "# Show DataFrame\n",
    "df_raw.show()\n"
   ]
  },
  {
   "cell_type": "code",
   "execution_count": 27,
   "id": "526199db",
   "metadata": {},
   "outputs": [
    {
     "name": "stderr",
     "output_type": "stream",
     "text": [
      "[Stage 30:====================================================>   (17 + 1) / 18]\r"
     ]
    },
    {
     "name": "stdout",
     "output_type": "stream",
     "text": [
      "+----------+--------------------+------------------+------------------+------------+--------------------+-------------+-------------+\n",
      "|     LocID|            Location|          Latitude|         Longitude|Incident Zip|    Incident Address|      Borough|         City|\n",
      "+----------+--------------------+------------------+------------------+------------+--------------------+-------------+-------------+\n",
      "| 374147409|(40.4989488461683...|40.498948846168354| -74.2443650809073|       10307|                null|STATEN ISLAND|STATEN ISLAND|\n",
      "|1114679381|(40.4989657939184...| 40.49896579391845|-74.24154617399876|       10307| 457 BRIGHTON STREET|STATEN ISLAND|STATEN ISLAND|\n",
      "|2078495998|(40.4990929527163...|40.499092952716396|-74.24371839403513|       10307|   235 BILLOP AVENUE|STATEN ISLAND|STATEN ISLAND|\n",
      "|   9578222|(40.4993188749562...| 40.49931887495625|-74.24071685602676|       10307|442 MANHATTAN STREET|STATEN ISLAND|STATEN ISLAND|\n",
      "| 243960583|(40.4994039565189...| 40.49940395651891|-74.24072075795043|       10307|437 MANHATTAN STREET|STATEN ISLAND|STATEN ISLAND|\n",
      "| 502835220|(40.499425127526,...|   40.499425127526|-74.23978596570532|       10307|   678 YETMAN AVENUE|STATEN ISLAND|STATEN ISLAND|\n",
      "|1361677421|(40.4996527814213...| 40.49965278142133|-74.23986588657068|       10307|   662 YETMAN AVENUE|STATEN ISLAND|STATEN ISLAND|\n",
      "|1468304012|(40.4997206371793...| 40.49972063717932| -74.2389168747568|       10307| 712 ROCKAWAY STREET|STATEN ISLAND|STATEN ISLAND|\n",
      "| 657237614|(40.4997874353593...|40.499787435359316|-74.24369935121653|       10307|     615 MAIN STREET|STATEN ISLAND|STATEN ISLAND|\n",
      "|1186575410|(40.5000251163958...|40.500025116395854|-74.23901145031695|       10307|                null|STATEN ISLAND|STATEN ISLAND|\n",
      "|1455416977|(40.5000320198810...|40.500032019881004|-74.24096033383314|       10307|426 MANHATTAN STREET|STATEN ISLAND|STATEN ISLAND|\n",
      "| 982899598|(40.5001417292079...| 40.50014172920792|-74.24100028172076|       10307|420 MANHATTAN STREET|STATEN ISLAND|STATEN ISLAND|\n",
      "| 599597407|(40.5002081650407...| 40.50020816504078|-74.23810239506855|       10307|  370 LORETTO STREET|STATEN ISLAND|STATEN ISLAND|\n",
      "|1026560197|(40.5007803380598...|40.500780338059826|-74.24404096762314|       10307|     565 MAIN STREET|STATEN ISLAND|STATEN ISLAND|\n",
      "| 803418378|(40.5009453917281...| 40.50094539172813|-74.24127285795284|       10307|376 MANHATTAN STREET|STATEN ISLAND|STATEN ISLAND|\n",
      "|1808325387|(40.5012641402754...|40.501264140275495|  -74.238480112834|       10307|  378 LORETTO STREET|STATEN ISLAND|STATEN ISLAND|\n",
      "|  19538194|(40.5014980070800...| 40.50149800708001|-74.23953090860965|       10307| 636 ROCKAWAY STREET|STATEN ISLAND|STATEN ISLAND|\n",
      "|1665692621|(40.5015378924183...|  40.5015378924183|-74.24145478391593|       10307|343 MANHATTAN STREET|STATEN ISLAND|STATEN ISLAND|\n",
      "| 262991418|(40.5016693579281...| 40.50166935792814|-74.24418444721569|       10307| 627 CLERMONT AVENUE|STATEN ISLAND|STATEN ISLAND|\n",
      "|1813615779|(40.5017819534240...| 40.50178195342406|-74.24156353845589|       10307|330 MANHATTAN STREET|STATEN ISLAND|STATEN ISLAND|\n",
      "+----------+--------------------+------------------+------------------+------------+--------------------+-------------+-------------+\n",
      "only showing top 20 rows\n",
      "\n"
     ]
    },
    {
     "name": "stderr",
     "output_type": "stream",
     "text": [
      "\r",
      "[Stage 32:>                                                         (0 + 1) / 1]\r",
      "\r",
      "                                                                                \r"
     ]
    }
   ],
   "source": [
    "from pyspark.sql.functions import hash, abs\n",
    "\n",
    "# Select the columns to check for uniqueness\n",
    "loc = ['Location']\n",
    "\n",
    "# Create a new DataFrame with only unique rows based on the selected columns\n",
    "loc_df = df.drop_duplicates(loc)\n",
    "\n",
    "# Select specific columns\n",
    "loc_df = loc_df.withColumn('LocID', abs(hash(\"Location\")))\n",
    "loc_df = loc_df.select(\"LocID\", \"Location\", \"Latitude\", \"Longitude\", \"Incident Zip\", \"Incident Address\", \"Borough\", \"City\")\n",
    "loc_df.show()\n",
    "\n"
   ]
  },
  {
   "cell_type": "code",
   "execution_count": 28,
   "id": "99652a06",
   "metadata": {},
   "outputs": [],
   "source": [
    "# Register DataFrames as temporary tables in Spark SQL\n",
    "loc_df.createOrReplaceTempView(\"loc_df\")\n",
    "df_raw.createOrReplaceTempView(\"df_raw\")"
   ]
  },
  {
   "cell_type": "code",
   "execution_count": 30,
   "id": "9789e7ae",
   "metadata": {},
   "outputs": [
    {
     "name": "stderr",
     "output_type": "stream",
     "text": [
      "                                                                                \r"
     ]
    },
    {
     "name": "stdout",
     "output_type": "stream",
     "text": [
      "+----------+------+--------------------+-----------+-----------+------------+--------------------+-----------+-----------+\n",
      "|Unique Key|Agency|      Complaint Type|     Status|Closed Date|Created Date|       LoadTimestamp|DaystoClose|location_id|\n",
      "+----------+------+--------------------+-----------+-----------+------------+--------------------+-----------+-----------+\n",
      "|  56587544|   dot|street light cond...|     closed| 2023-01-21|  2023-01-21|2023-04-17 14:59:...|          1|  374147409|\n",
      "|  54620423|   dot|street light cond...|     closed| 2022-06-27|  2022-06-27|2023-04-17 14:59:...|          1|  374147409|\n",
      "|  54619140|   dot|street light cond...|     closed| 2022-06-27|  2022-06-27|2023-04-17 14:59:...|          1|  374147409|\n",
      "|  55742971|   dpr|    new tree request|     closed| 2022-11-09|  2022-10-19|2023-04-17 14:59:...|         21| 1114679381|\n",
      "|  55582634|   dpr|    new tree request|     closed| 2022-11-09|  2022-10-02|2023-04-17 14:59:...|         38| 1114679381|\n",
      "|  54889706|   dep|               sewer|     closed| 2022-07-24|  2022-07-24|2023-04-17 14:59:...|          1| 2078495998|\n",
      "|  52978300|  dsny|request large bul...|     closed| 2022-01-07|  2022-01-05|2023-04-17 14:59:...|          2| 2078495998|\n",
      "|  53158875|  dsny|request large bul...|     closed| 2022-01-28|  2022-01-24|2023-04-17 14:59:...|          4|    9578222|\n",
      "|  52954054|  dsny|request large bul...|     closed| 2022-01-07|  2022-01-03|2023-04-17 14:59:...|          4|    9578222|\n",
      "|  56669574|  nypd|   abandoned vehicle|     closed| 2023-01-31|  2023-01-31|2023-04-17 14:59:...|          1|  243960583|\n",
      "|  55745738|   dpr|    new tree request|in progress|       null|  2022-10-19|2023-04-17 14:59:...|          0|  243960583|\n",
      "|  55651425|  dsny|electronics waste...|     closed| 2022-10-12|  2022-10-09|2023-04-17 14:59:...|          3|  502835220|\n",
      "|  55742963|   dpr|    new tree request|in progress|       null|  2022-10-19|2023-04-17 14:59:...|          0| 1361677421|\n",
      "|  53919856|   dpr| illegal tree damage|     closed| 2022-05-14|  2022-04-14|2023-04-17 14:59:...|         30| 1468304012|\n",
      "|  55894188|  dsny|   missed collection|     closed| 2022-11-09|  2022-11-04|2023-04-17 14:59:...|          5|  657237614|\n",
      "|  53182054|  dsny|electronics waste...|     closed| 2022-01-27|  2022-01-26|2023-04-17 14:59:...|          1|  657237614|\n",
      "|  53487885|   dot|street light cond...|     closed| 2022-02-28|  2022-02-28|2023-04-17 14:59:...|          1| 1186575410|\n",
      "|  54882896|   dpr|     dead/dying tree|     closed| 2022-09-12|  2022-07-23|2023-04-17 14:59:...|         51| 1455416977|\n",
      "|  53603241|   dpr|     dead/dying tree|     closed| 2022-03-10|  2022-03-09|2023-04-17 14:59:...|          1| 1455416977|\n",
      "|  56357477|   dep|               noise|     closed| 2023-01-01|  2022-12-25|2023-04-17 14:59:...|          7|  982899598|\n",
      "+----------+------+--------------------+-----------+-----------+------------+--------------------+-----------+-----------+\n",
      "only showing top 20 rows\n",
      "\n"
     ]
    }
   ],
   "source": [
    "joined_df = spark.sql(\"\"\"\n",
    "    SELECT `Unique Key`, Agency, `Complaint Type`, Status, `Closed Date`, `Created Date`, LoadTimestamp, DaystoClose, a.LocID as location_id\n",
    "    FROM df_raw d\n",
    "    JOIN loc_df a ON d.Location= a.Location\n",
    "\"\"\")\n",
    "joined_df.show()"
   ]
  },
  {
   "cell_type": "markdown",
   "id": "57de50f6",
   "metadata": {},
   "source": [
    "# Load the data to PostgreSQL "
   ]
  },
  {
   "cell_type": "code",
   "execution_count": 28,
   "id": "c6a9b68b",
   "metadata": {},
   "outputs": [
    {
     "name": "stdout",
     "output_type": "stream",
     "text": [
      "Requirement already satisfied: psycopg[binary] in /Library/Frameworks/Python.framework/Versions/3.10/lib/python3.10/site-packages (3.1.8)\n",
      "Requirement already satisfied: typing-extensions>=4.1 in /Library/Frameworks/Python.framework/Versions/3.10/lib/python3.10/site-packages (from psycopg[binary]) (4.5.0)\n",
      "Collecting psycopg-binary<=3.1.8,>=3.1.6\n",
      "  Downloading psycopg_binary-3.1.8-cp310-cp310-macosx_11_0_arm64.whl (2.2 MB)\n",
      "\u001b[2K     \u001b[90m━━━━━━━━━━━━━━━━━━━━━━━━━━━━━━━━━━━━━━━━\u001b[0m \u001b[32m2.2/2.2 MB\u001b[0m \u001b[31m9.1 MB/s\u001b[0m eta \u001b[36m0:00:00\u001b[0m:00:01\u001b[0m0:01\u001b[0m0m\n",
      "\u001b[?25hInstalling collected packages: psycopg-binary\n",
      "Successfully installed psycopg-binary-3.1.8\n"
     ]
    }
   ],
   "source": [
    "!pip3 install -U \"psycopg[binary]\""
   ]
  },
  {
   "cell_type": "code",
   "execution_count": 31,
   "id": "c07b6f73",
   "metadata": {},
   "outputs": [
    {
     "name": "stdout",
     "output_type": "stream",
     "text": [
      "Connecting to the PostgreSQL database...\n"
     ]
    }
   ],
   "source": [
    "#Connect the PostgreSQL Database called task_2\n",
    "import psycopg, os\n",
    "\n",
    "print('Connecting to the PostgreSQL database...')\n",
    "conn = psycopg.connect(\n",
    "    host=\"localhost\",\n",
    "    port='5432',\n",
    "    dbname=\"311_service_data\",\n",
    "    user=\"postgres\",\n",
    "    password=\"123\")"
   ]
  },
  {
   "cell_type": "code",
   "execution_count": 32,
   "id": "4c7f1841",
   "metadata": {},
   "outputs": [],
   "source": [
    "# create a cursor\n",
    "cur = conn.cursor()"
   ]
  },
  {
   "cell_type": "code",
   "execution_count": 33,
   "id": "81d45325",
   "metadata": {},
   "outputs": [],
   "source": [
    "create_location = \"\"\" CREATE TABLE location (\n",
    "              \"LocID\" INT PRIMARY KEY NOT NULL, \n",
    "              \"Location\" VARCHAR(300) NOT NULL, \n",
    "              \"Latitude\" DOUBLE PRECISION, \n",
    "              \"Longitude\" DOUBLE PRECISION,\n",
    "              \"Incident Zip\" INT, \n",
    "              \"Incident Address\" VARCHAR(500),\n",
    "              \"Borough\" VARCHAR(30),\n",
    "              \"City\" VARCHAR(20)\n",
    "                )\n",
    "            \"\"\"\n",
    "    \n",
    "cur.execute(create_location)\n",
    "conn.commit()"
   ]
  },
  {
   "cell_type": "code",
   "execution_count": 34,
   "id": "f17084d8",
   "metadata": {},
   "outputs": [],
   "source": [
    "conn.rollback()"
   ]
  },
  {
   "cell_type": "code",
   "execution_count": 35,
   "id": "18e9160f",
   "metadata": {},
   "outputs": [],
   "source": [
    "create_main = \"\"\" CREATE TABLE main_request (\n",
    "              \"Unique Key\" INT PRIMARY KEY NOT NULL, \n",
    "              \"Agency\" VARCHAR(30), \n",
    "              \"Complaint Type\" VARCHAR(100),\n",
    "              \"Descriptor\" VARCHAR(400),\n",
    "              \"Status\" VARCHAR(200),\n",
    "              \"Closed Date\" DATE, \n",
    "              \"Created Date\" DATE,\n",
    "              \"LoadTimestamp\" TIMESTAMP,\n",
    "              \"location_id\" INT NOT NULL \n",
    "                )\n",
    "            \"\"\"\n",
    "    \n",
    "cur.execute(create_main)\n",
    "conn.commit()"
   ]
  },
  {
   "cell_type": "code",
   "execution_count": 73,
   "id": "0d4ea9db",
   "metadata": {},
   "outputs": [
    {
     "name": "stdout",
     "output_type": "stream",
     "text": [
      "Collecting sqlalchemy\n",
      "  Downloading SQLAlchemy-2.0.9-cp310-cp310-macosx_11_0_arm64.whl (2.0 MB)\n",
      "\u001b[2K     \u001b[90m━━━━━━━━━━━━━━━━━━━━━━━━━━━━━━━━━━━━━━━━\u001b[0m \u001b[32m2.0/2.0 MB\u001b[0m \u001b[31m11.1 MB/s\u001b[0m eta \u001b[36m0:00:00\u001b[0ma \u001b[36m0:00:01\u001b[0m\n",
      "\u001b[?25hRequirement already satisfied: typing-extensions>=4.2.0 in /Library/Frameworks/Python.framework/Versions/3.10/lib/python3.10/site-packages (from sqlalchemy) (4.5.0)\n",
      "Installing collected packages: sqlalchemy\n",
      "Successfully installed sqlalchemy-2.0.9\n"
     ]
    }
   ],
   "source": [
    "!pip3 install sqlalchemy\n"
   ]
  },
  {
   "cell_type": "code",
   "execution_count": 76,
   "id": "36b74283",
   "metadata": {},
   "outputs": [
    {
     "name": "stdout",
     "output_type": "stream",
     "text": [
      "Collecting psycopg2-binary\n",
      "  Downloading psycopg2_binary-2.9.6-cp310-cp310-macosx_11_0_arm64.whl (2.0 MB)\n",
      "\u001b[2K     \u001b[90m━━━━━━━━━━━━━━━━━━━━━━━━━━━━━━━━━━━━━━━━\u001b[0m \u001b[32m2.0/2.0 MB\u001b[0m \u001b[31m8.8 MB/s\u001b[0m eta \u001b[36m0:00:00\u001b[0ma \u001b[36m0:00:01\u001b[0m\n",
      "\u001b[?25hInstalling collected packages: psycopg2-binary\n",
      "Successfully installed psycopg2-binary-2.9.6\n"
     ]
    }
   ],
   "source": [
    "!pip3 install psycopg2-binary"
   ]
  },
  {
   "cell_type": "code",
   "execution_count": 36,
   "id": "f8194bdb",
   "metadata": {},
   "outputs": [
    {
     "name": "stderr",
     "output_type": "stream",
     "text": [
      "                                                                                \r"
     ]
    }
   ],
   "source": [
    "# PostgreSQL connection properties\n",
    "db_url = \"jdbc:postgresql://localhost:5432/311_service_data\"\n",
    "table_name = \"location\"\n",
    "properties = {\n",
    "    \"user\": \"postgres\",\n",
    "    \"password\": \"123\",\n",
    "    \"driver\": \"org.postgresql.Driver\"\n",
    "}\n",
    "\n",
    "# Write the DataFrame to PostgreSQL\n",
    "loc_df.write.jdbc(url=db_url, table=table_name, mode=\"overwrite\", properties=properties)"
   ]
  },
  {
   "cell_type": "code",
   "execution_count": 37,
   "id": "1262f54f",
   "metadata": {},
   "outputs": [
    {
     "name": "stderr",
     "output_type": "stream",
     "text": [
      "                                                                                \r"
     ]
    }
   ],
   "source": [
    "# PostgreSQL connection properties\n",
    "db_url = \"jdbc:postgresql://localhost:5432/311_service_data\"\n",
    "table_name = \"main_request\"\n",
    "properties = {\n",
    "    \"user\": \"postgres\",\n",
    "    \"password\": \"123\",\n",
    "    \"driver\": \"org.postgresql.Driver\"\n",
    "}\n",
    "\n",
    "# Write the DataFrame to PostgreSQL\n",
    "joined_df.write.jdbc(url=db_url, table=table_name, mode=\"overwrite\", properties=properties)"
   ]
  },
  {
   "cell_type": "code",
   "execution_count": 85,
   "id": "67a9325f",
   "metadata": {},
   "outputs": [],
   "source": [
    "conn.rollback()"
   ]
  },
  {
   "cell_type": "code",
   "execution_count": 38,
   "id": "2c1dbfca",
   "metadata": {},
   "outputs": [
    {
     "name": "stdout",
     "output_type": "stream",
     "text": [
      "             LocID                                  Location   Latitude  \\\n",
      "0               42                                      None        NaN   \n",
      "1       2134162157   (40.49900071077867, -74.24060424632607)  40.499001   \n",
      "2       1624883563  (40.499378540887335, -74.23974984219767)  40.499379   \n",
      "3        380950840    (40.4997508076291, -74.23892776954874)  40.499751   \n",
      "4       1417674560   (40.50014121024302, -74.24384446800241)  40.500141   \n",
      "...            ...                                       ...        ...   \n",
      "668178  1815532003  (40.908129374877475, -73.90000546783567)  40.908129   \n",
      "668179   985138399   (40.90866525712599, -73.90078248376851)  40.908665   \n",
      "668180  1198277803   (40.90875661114392, -73.90169402865659)  40.908757   \n",
      "668181   295844999  (40.911065649519074, -73.89939685885678)  40.911066   \n",
      "668182   829719397   (40.91165661257873, -73.89725414322062)  40.911657   \n",
      "\n",
      "        Longitude Incident Zip      Incident Address        Borough  \\\n",
      "0             NaN        10016      EAST   39 STREET      MANHATTAN   \n",
      "1      -74.240604        10307  464 MANHATTAN STREET  STATEN ISLAND   \n",
      "2      -74.239750        10307     681 YETMAN AVENUE  STATEN ISLAND   \n",
      "3      -74.238928        10307   710 ROCKAWAY STREET  STATEN ISLAND   \n",
      "4      -74.243844        10307       596 MAIN STREET  STATEN ISLAND   \n",
      "...           ...          ...                   ...            ...   \n",
      "668178 -73.900005        10471        FIELDSTON ROAD          BRONX   \n",
      "668179 -73.900782        10471   6029 TYNDALL AVENUE          BRONX   \n",
      "668180 -73.901694        10471    6031 LIEBIG AVENUE          BRONX   \n",
      "668181 -73.899397        10471  353 WEST  262 STREET          BRONX   \n",
      "668182 -73.897254        10471       SPENCER TERRACE          BRONX   \n",
      "\n",
      "                 City  \n",
      "0                None  \n",
      "1       STATEN ISLAND  \n",
      "2       STATEN ISLAND  \n",
      "3       STATEN ISLAND  \n",
      "4       STATEN ISLAND  \n",
      "...               ...  \n",
      "668178           None  \n",
      "668179          BRONX  \n",
      "668180          BRONX  \n",
      "668181          BRONX  \n",
      "668182          BRONX  \n",
      "\n",
      "[668183 rows x 8 columns]\n"
     ]
    }
   ],
   "source": [
    "import pandas as pd\n",
    "query = \"SELECT * FROM location;\"\n",
    "cur.execute(query)\n",
    "data = cur.fetchall()\n",
    "\n",
    "column_names = [desc[0] for desc in cur.description]\n",
    "df = pd.DataFrame(data, columns=column_names)\n",
    "\n",
    "print(df)"
   ]
  },
  {
   "cell_type": "code",
   "execution_count": 39,
   "id": "de8bd490",
   "metadata": {},
   "outputs": [
    {
     "name": "stdout",
     "output_type": "stream",
     "text": [
      "   Unique Key Agency                       Complaint Type  Status Closed Date  \\\n",
      "0    56587544    dot               street light condition  closed  2023-01-21   \n",
      "1    54620423    dot               street light condition  closed  2022-06-27   \n",
      "2    54619140    dot               street light condition  closed  2022-06-27   \n",
      "3    55742971    dpr                     new tree request  closed  2022-11-09   \n",
      "4    55582634    dpr                     new tree request  closed  2022-11-09   \n",
      "5    52978300   dsny  request large bulky item collection  closed  2022-01-07   \n",
      "6    54889706    dep                                sewer  closed  2022-07-24   \n",
      "7    53158875   dsny  request large bulky item collection  closed  2022-01-28   \n",
      "8    52954054   dsny  request large bulky item collection  closed  2022-01-07   \n",
      "9    56669574   nypd                    abandoned vehicle  closed  2023-01-31   \n",
      "\n",
      "  Created Date           LoadTimestamp  DaystoClose  location_id  \n",
      "0   2023-01-21 2023-04-17 15:05:12.984            1    374147409  \n",
      "1   2022-06-27 2023-04-17 15:05:12.984            1    374147409  \n",
      "2   2022-06-27 2023-04-17 15:05:12.984            1    374147409  \n",
      "3   2022-10-19 2023-04-17 15:05:12.984           21   1114679381  \n",
      "4   2022-10-02 2023-04-17 15:05:12.984           38   1114679381  \n",
      "5   2022-01-05 2023-04-17 15:05:12.984            2   2078495998  \n",
      "6   2022-07-24 2023-04-17 15:05:12.984            1   2078495998  \n",
      "7   2022-01-24 2023-04-17 15:05:12.984            4      9578222  \n",
      "8   2022-01-03 2023-04-17 15:05:12.984            4      9578222  \n",
      "9   2023-01-31 2023-04-17 15:05:12.984            1    243960583  \n"
     ]
    }
   ],
   "source": [
    "import pandas as pd\n",
    "\n",
    "query = \"SELECT * FROM main_request LIMIT 10;\"\n",
    "cur.execute(query)\n",
    "data = cur.fetchall()\n",
    "\n",
    "column_names = [desc[0] for desc in cur.description]\n",
    "df = pd.DataFrame(data, columns=column_names)\n",
    "\n",
    "print(df)"
   ]
  },
  {
   "cell_type": "code",
   "execution_count": 40,
   "id": "bdb4ce73",
   "metadata": {},
   "outputs": [],
   "source": [
    "\n",
    "delete_duplicates = \"\"\" DELETE FROM location t1\n",
    "                        USING location t2\n",
    "                        WHERE t1.ctid < t2.ctid\n",
    "                        AND t1.\"LocID\" = t2.\"LocID\"\n",
    "                    \"\"\"\n",
    "\n",
    "cur.execute(delete_duplicates)\n",
    "conn.commit()\n",
    "\n",
    "# Add the primary key constraint to the 'LocID' column\n",
    "alter_location_primary_key = \"\"\" ALTER TABLE location\n",
    "                                 ADD PRIMARY KEY (\"LocID\")\n",
    "                             \"\"\"\n",
    "\n",
    "cur.execute(alter_location_primary_key)\n",
    "conn.commit()\n"
   ]
  },
  {
   "cell_type": "code",
   "execution_count": 41,
   "id": "e3d3f856",
   "metadata": {},
   "outputs": [],
   "source": [
    "alter_main = \"\"\" ALTER TABLE main_request\n",
    "                ADD CONSTRAINT fk_location_id\n",
    "                FOREIGN KEY (location_id)\n",
    "                REFERENCES location(\"LocID\")\n",
    "            \"\"\"\n",
    "\n",
    "cur.execute(alter_main)\n",
    "conn.commit()\n"
   ]
  }
 ],
 "metadata": {
  "kernelspec": {
   "display_name": "Python 3 (ipykernel)",
   "language": "python",
   "name": "python3"
  },
  "language_info": {
   "codemirror_mode": {
    "name": "ipython",
    "version": 3
   },
   "file_extension": ".py",
   "mimetype": "text/x-python",
   "name": "python",
   "nbconvert_exporter": "python",
   "pygments_lexer": "ipython3",
   "version": "3.10.7"
  }
 },
 "nbformat": 4,
 "nbformat_minor": 5
}
